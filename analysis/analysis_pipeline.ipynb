{
 "cells": [
  {
   "cell_type": "code",
   "execution_count": 1,
   "metadata": {},
   "outputs": [],
   "source": [
    "# For EEG processing pipeline for one participant \n",
    "# Default and minimal pipeline, can be modified and extended\n",
    "from mne import Epochs, find_events, Evoked\n",
    "import mne\n",
    "import numpy as np\n",
    "from numpy import genfromtxt\n",
    "\n",
    "%matplotlib qt"
   ]
  },
  {
   "cell_type": "markdown",
   "metadata": {},
   "source": [
    "We load the data recorded by the Unicorn"
   ]
  },
  {
   "cell_type": "code",
   "execution_count": 9,
   "metadata": {},
   "outputs": [],
   "source": [
    "my_data_s = genfromtxt('eeg_data.csv', delimiter=',', skip_header=1)"
   ]
  },
  {
   "cell_type": "markdown",
   "metadata": {},
   "source": [
    "The data recorded is not in a usable format to be directly analyzed, we have to make some transformation to make a usable data object"
   ]
  },
  {
   "cell_type": "code",
   "execution_count": 10,
   "metadata": {
    "scrolled": true
   },
   "outputs": [],
   "source": [
    "# We keep only the usefull channel in our context (i.e., EEG channels and events)\n",
    "my_data_s = my_data_s[:, [0, 1, 2, 3, 4, 5, 6, 7, 18]]\n",
    "# We transpose the data from a column format into a line format\n",
    "my_data_s = my_data_s.transpose()\n",
    "# We can show the data here\n",
    "my_data_s"
   ]
  },
  {
   "cell_type": "code",
   "execution_count": 11,
   "metadata": {},
   "outputs": [],
   "source": [
    "sfreq = 250  # Sampling frequency of the unicorn \n",
    "ch_types = ['eeg', 'eeg', 'eeg', 'eeg', 'eeg', 'eeg', 'eeg', 'eeg', 'stim'] # Setup the types of each channel\n",
    "ch_names = ['Fz', 'C3', 'Cz', 'C4', 'Pz', 'PO7', 'Oz', 'PO8', 'stim'] # Rename the channels with meaningful labels\n",
    "\n",
    "# Create a raw MNE eeg data object in order to use the library for the analysis\n",
    "montage = mne.channels.make_standard_montage('standard_1020')\n",
    "info = mne.create_info(ch_names=ch_names, sfreq=sfreq, ch_types=ch_types)\n",
    "raw = mne.io.RawArray(my_data_s, info)\n",
    "raw.set_montage(montage)\n",
    "# We have created the raw data object"
   ]
  },
  {
   "cell_type": "code",
   "execution_count": 12,
   "metadata": {},
   "outputs": [],
   "source": [
    "# We can plot the sensors\n",
    "raw.plot_sensors(show_names=True)"
   ]
  },
  {
   "cell_type": "code",
   "execution_count": 13,
   "metadata": {},
   "outputs": [],
   "source": [
    "# Find the events\n",
    "events = mne.find_events(raw, 'stim')\n"
   ]
  },
  {
   "cell_type": "code",
   "execution_count": 14,
   "metadata": {},
   "outputs": [],
   "source": [
    "event_id = {'Stim 1': 1, 'Stim 2': 2, 'Stim 3': 3}"
   ]
  },
  {
   "cell_type": "code",
   "source": [
    "# Plot raw data\n",
    "raw.plot()\n",
    "# Plot the power spectral density across channels\n",
    "raw.plot_psd()"
   ],
   "metadata": {
    "collapsed": false,
    "pycharm": {
     "name": "#%%\n"
    }
   },
   "execution_count": null,
   "outputs": []
  },
  {
   "cell_type": "code",
   "execution_count": 15,
   "metadata": {},
   "outputs": [],
   "source": [
    "# Now we can apply a filter\n",
    "raw.filter(1,40)\n",
    "raw.notch_filter([60, 120])\n",
    "# Plot the power spectral density after filtering\n",
    "raw.plot_psd()"
   ]
  },
  {
   "cell_type": "code",
   "execution_count": 16,
   "metadata": {},
   "outputs": [],
   "source": [
    "# and plot the continuous data \n",
    "raw.plot(n_channels=8, scalings=6e1, title='Filtered EEG data (1 - 40 Hz)',\n",
    "         show=True)"
   ]
  },
  {
   "cell_type": "code",
   "execution_count": 17,
   "metadata": {},
   "outputs": [],
   "source": [
    "# We can now create epochs based on the events (face, house)\n",
    "# We setup the channels and take out the stimulation channel\n",
    "picks = mne.pick_channels(ch_names, include=['Fz', 'C3', 'Cz', 'C4', 'Pz', 'PO7', 'Oz', 'PO8'])\n",
    "# We create an epochs object\n",
    "epochs = Epochs(raw, events=events, event_id=event_id, picks=picks,\n",
    "                tmin=-0.1, tmax=0.8, baseline=None, preload=True,\n",
    "                verbose=False)"
   ]
  },
  {
   "cell_type": "code",
   "execution_count": 18,
   "metadata": {},
   "outputs": [],
   "source": [
    "# We can now visualize the epochs and select bad epochs to be dropped\n",
    "epochs.plot(scalings='auto')"
   ]
  },
  {
   "cell_type": "code",
   "execution_count": 19,
   "metadata": {},
   "outputs": [],
   "source": [
    "# We can drop the selected epochs or channels\n",
    "epochs.drop_bad()"
   ]
  },
  {
   "cell_type": "code",
   "execution_count": 20,
   "metadata": {},
   "outputs": [],
   "source": [
    "# Show the new count\n",
    "epochs"
   ]
  },
  {
   "cell_type": "code",
   "execution_count": 21,
   "metadata": {},
   "outputs": [],
   "source": [
    "# We can now visualize the N170 for house\n",
    "nave_stimeOne = len(epochs['Stim 1'])  # Number of averaged epochs\n",
    "evoked_stimOne_data = np.mean(epochs['Stim 1'], axis=0) # Average the epochs \n",
    "\n",
    "# Create an Evoked data object\n",
    "ch_types_evoked = ['eeg', 'eeg', 'eeg', 'eeg', 'eeg', 'eeg', 'eeg', 'eeg']\n",
    "ch_names_evoked = ['Fz', 'C3', 'Cz', 'C4', 'Pz', 'PO7', 'Oz', 'PO8']\n",
    "info_evoked = mne.create_info(ch_names=ch_names_evoked, sfreq=sfreq, ch_types=ch_types_evoked)\n",
    "\n",
    "evoked_stimeOne= mne.EvokedArray(evoked_stimOne_data, info=info_evoked, tmin=-0.1, nave=nave_stimeOne)\n",
    "evoked_stimeOne.set_montage(montage)\n",
    "# Apply baseline\n",
    "evoked_stimeOne = evoked_stimeOne.apply_baseline((-.1, 0))"
   ]
  },
  {
   "cell_type": "code",
   "execution_count": 22,
   "metadata": {},
   "outputs": [],
   "source": [
    "# Global field power \n",
    "evoked_stimeOne.plot(gfp=True, spatial_colors=True)"
   ]
  },
  {
   "cell_type": "code",
   "execution_count": 23,
   "metadata": {},
   "outputs": [],
   "source": [
    "# Visualize\n",
    "evoked_stimeOne.plot_joint(times = [.2, .5, .7])"
   ]
  },
  {
   "cell_type": "code",
   "execution_count": 24,
   "metadata": {},
   "outputs": [],
   "source": [
    "# Topographies \n",
    "times = np.linspace(0.1, 0.8, 8)\n",
    "evoked_stimeOne['Stim 1'].plot_topomap(ch_type='eeg', times=times, colorbar=True)"
   ]
  },
  {
   "cell_type": "code",
   "execution_count": 26,
   "metadata": {},
   "outputs": [],
   "source": [
    "# mode = {‘pos’, ‘neg’, ‘abs’}\n",
    "evoked_stimeOne.copy().crop(tmin=0.100, tmax=0.300).pick_channels(['Cz']).get_peak(ch_type='eeg', mode='neg',\n",
    "                                             return_amplitude=True)\n",
    "evoked_stimeOne.copy().crop(tmin=0.100, tmax=0.300).pick_channels(['Fz']).get_peak(ch_type='eeg', mode='neg',\n",
    "                                             return_amplitude=True)"
   ]
  },
  {
   "cell_type": "code",
   "execution_count": null,
   "metadata": {
    "scrolled": true
   },
   "outputs": [],
   "source": [
    "# We can now visualize the N170 for face\n",
    "nave_stimTwo = len(epochs['Stim 2'])  # Number of averaged epochs\n",
    "evoked_stimTwo_data = np.mean(epochs['Stim 2'], axis=0) # Average the epochs \n",
    "\n",
    "# Create an Evoked data object\n",
    "ch_types_evoked = ['eeg', 'eeg', 'eeg', 'eeg', 'eeg', 'eeg', 'eeg', 'eeg']\n",
    "ch_names_evoked = ['Fz', 'C3', 'Cz', 'C4', 'Pz', 'PO7', 'Oz', 'PO8']\n",
    "info_evoked = mne.create_info(ch_names=ch_names_evoked, sfreq=sfreq, ch_types=ch_types_evoked)\n",
    "evoked_stimTwo = mne.EvokedArray(evoked_stimTwo_data, info=info_evoked, tmin=-0.1, nave=nave_stimTwo)\n",
    "evoked_stimTwo.set_montage(montage)\n",
    "# Apply baseline\n",
    "evoked_stimTwo = evoked_stimTwo.apply_baseline((-.1, 0))\n"
   ]
  },
  {
   "cell_type": "code",
   "execution_count": null,
   "metadata": {},
   "outputs": [],
   "source": [
    "# Global field power \n",
    "evoked_stimTwo.plot(gfp=True, spatial_colors=True)"
   ]
  },
  {
   "cell_type": "code",
   "execution_count": null,
   "metadata": {},
   "outputs": [],
   "source": [
    "# Visualize\n",
    "evoked_stimTwo.plot_joint(times = [0.170])"
   ]
  },
  {
   "cell_type": "code",
   "execution_count": null,
   "metadata": {
    "scrolled": true,
    "pycharm": {
     "name": "#%%\n"
    }
   },
   "outputs": [],
   "source": [
    "# Get max amplitude and latency\n",
    "# mode = {‘pos’, ‘neg’, ‘abs’}\n",
    "evoked_stimTwo.copy().crop(tmin=0.140, tmax=0.200).pick_channels(['Cz']).get_peak(ch_type='eeg', mode='neg',\n",
    "                                             return_amplitude=True)\n",
    "\n",
    "\n",
    "\n"
   ]
  }
 ],
 "metadata": {
  "kernelspec": {
   "display_name": "Python 3",
   "language": "python",
   "name": "python3"
  },
  "language_info": {
   "codemirror_mode": {
    "name": "ipython",
    "version": 3
   },
   "file_extension": ".py",
   "mimetype": "text/x-python",
   "name": "python",
   "nbconvert_exporter": "python",
   "pygments_lexer": "ipython3",
   "version": "3.7.7"
  },
  "pycharm": {
   "stem_cell": {
    "cell_type": "raw",
    "source": [],
    "metadata": {
     "collapsed": false
    }
   }
  }
 },
 "nbformat": 4,
 "nbformat_minor": 4
}